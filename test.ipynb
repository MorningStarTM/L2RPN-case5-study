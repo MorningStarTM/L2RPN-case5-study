{
 "cells": [
  {
   "cell_type": "code",
   "execution_count": 11,
   "metadata": {},
   "outputs": [],
   "source": [
    "from tqdm.notebook import tqdm\n",
    "import numpy as np\n",
    "from agents import ACAgent, KANACAgent, PPOAgent, KANPPOAgent, DQNAgent\n",
    "from agents import Trainer, PPOTrainer, QTrainer\n",
    "import gym\n",
    "from agents.converter import Converter\n",
    "from lightsim2grid import LightSimBackend\n",
    "from grid2op.Action import TopologyChangeAction\n",
    "import grid2op\n",
    "from agents import Evaluator\n",
    "import warnings\n",
    "from itertools import product\n",
    "from grid2op.Parameters import Parameters\n",
    "from agents import Converter\n",
    "warnings.filterwarnings(\"ignore\")"
   ]
  },
  {
   "cell_type": "code",
   "execution_count": 12,
   "metadata": {},
   "outputs": [],
   "source": [
    "p = Parameters()\n",
    "env_name = \"rte_case14_realistic\"  # or any other name.\n",
    "env = grid2op.make(env_name,\n",
    "                   action_class=TopologyChangeAction,\n",
    "                   param=p)"
   ]
  },
  {
   "cell_type": "code",
   "execution_count": null,
   "metadata": {},
   "outputs": [],
   "source": []
  }
 ],
 "metadata": {
  "kernelspec": {
   "display_name": "l2rpn-test",
   "language": "python",
   "name": "python3"
  },
  "language_info": {
   "codemirror_mode": {
    "name": "ipython",
    "version": 3
   },
   "file_extension": ".py",
   "mimetype": "text/x-python",
   "name": "python",
   "nbconvert_exporter": "python",
   "pygments_lexer": "ipython3",
   "version": "3.10.13"
  }
 },
 "nbformat": 4,
 "nbformat_minor": 2
}
